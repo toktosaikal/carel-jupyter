{
 "cells": [
  {
   "cell_type": "code",
   "execution_count": 34,
   "metadata": {},
   "outputs": [
    {
     "name": "stdout",
     "output_type": "stream",
     "text": [
      "',(0):>   1      0      0      0      0   \n",
      "   2      0      0      0      0      0   \n",
      "   0      0      0      0      0      0   \n",
      "   0      0      1      0      0      0   \n"
     ]
    }
   ],
   "source": [
    "from carel import Carel\n",
    "from carelgrid import CarelGrid\n",
    "from gamecanvas import GameCanvas\n",
    "\n",
    "field = [[0 for x in range(6)] for y in range(4)]\n",
    "\n",
    "field[0][1] = 1\n",
    "field[1][0] = 2\n",
    "field[3][2] = 1\n",
    "\n",
    "grid = CarelGrid(field)\n",
    "canvas = GameCanvas(speed=1);\n",
    "carel = Carel(canvas, grid);\n",
    "\n",
    "def move():\n",
    "    carel.move()\n",
    "def turn_left():\n",
    "    carel.turn_left()\n",
    "def drop_beeper():\n",
    "    carel.drop_beeper()\n",
    "def collect_beeper():\n",
    "    carel.collect_beeper()\n",
    "def is_beeper():\n",
    "    return carel.is_beeper()\n",
    "def is_front_clear():\n",
    "    return carel.is_front_clear()\n",
    "def show():\n",
    "    carel.show()"
   ]
  },
  {
   "cell_type": "code",
   "execution_count": 35,
   "metadata": {},
   "outputs": [],
   "source": [
    "# New methods go here\n",
    "\n",
    "# Example\n",
    "\n",
    "def turn_around():\n",
    "    turn_left()\n",
    "    turn_left()\n",
    "def clean_field():\n",
    "    clean_line()\n",
    "    go_right_line ()\n",
    "    clean_line()\n",
    "    go_left_line()\n",
    "    clean_line()\n",
    "    go_right_line\n",
    "    clean_line()\n",
    "    go_right_line()\n",
    "    clean_line()\n",
    "    \n",
    "def turn_right():\n",
    "    turn_left()\n",
    "    turn_left()\n",
    "    turn_left()\n",
    "    \n",
    "def clean_line():\n",
    "    while is_front_clear():\n",
    "        move()\n",
    "        while is_beeper():\n",
    "            collect_beeper()\n",
    "        \n",
    "def go_right_line():\n",
    "    turn_right ()\n",
    "    move()\n",
    "    turn_right()\n",
    "    \n",
    "def go_left_line():\n",
    "    turn_left()\n",
    "    move()\n",
    "    turn_left()\n",
    "    \n",
    "        "
   ]
  },
  {
   "cell_type": "code",
   "execution_count": 36,
   "metadata": {},
   "outputs": [
    {
     "name": "stdout",
     "output_type": "stream",
     "text": [
      "   0      0      0      0      0      0   \n",
      "   0      0      0      0      0      0   \n",
      "   0      0      0      0      0      0   \n",
      "',(0):<   0      0      0      0      0   \n"
     ]
    }
   ],
   "source": [
    "# Clear field from all beepers\n",
    "clean_field()"
   ]
  },
  {
   "cell_type": "code",
   "execution_count": null,
   "metadata": {},
   "outputs": [],
   "source": []
  }
 ],
 "metadata": {
  "kernelspec": {
   "display_name": "Python 3",
   "language": "python",
   "name": "python3"
  },
  "language_info": {
   "codemirror_mode": {
    "name": "ipython",
    "version": 3
   },
   "file_extension": ".py",
   "mimetype": "text/x-python",
   "name": "python",
   "nbconvert_exporter": "python",
   "pygments_lexer": "ipython3",
   "version": "3.7.1"
  }
 },
 "nbformat": 4,
 "nbformat_minor": 2
}
