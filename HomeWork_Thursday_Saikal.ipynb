{
 "cells": [
  {
   "cell_type": "code",
   "execution_count": 92,
   "metadata": {},
   "outputs": [],
   "source": [
    "from carel import Carel\n",
    "from carelgrid import CarelGrid\n",
    "from gamecanvas import GameCanvas"
   ]
  },
  {
   "cell_type": "code",
   "execution_count": 93,
   "metadata": {},
   "outputs": [],
   "source": [
    "class CarelCounter(Carel):\n",
    "    \n",
    "    def initiate_counter(self):\n",
    "        self.counter = 0\n",
    "\n",
    "    def fill_field(self):\n",
    "        while True:\n",
    "            self.fill_to_wall()\n",
    "            self.turn_right()\n",
    "            if not self.is_front_clear():\n",
    "                break\n",
    "            self.move()\n",
    "            self.turn_right()\n",
    "            self.fill_to_wall()\n",
    "            self.turn_left()\n",
    "            if not self.is_front_clear():\n",
    "                break\n",
    "            self.move()\n",
    "            self.turn_left()\n",
    "            \n",
    "    def fill_to_wall(self):\n",
    "        while True:\n",
    "            self.drop_beeper()\n",
    "            if not self.is_front_clear():\n",
    "                break\n",
    "            self.move()\n",
    "    \n",
    "    \n",
    "    def turn_right(self):\n",
    "        self.turn_left()\n",
    "        self.turn_left()\n",
    "        self.turn_left()\n",
    "    \n",
    "    def collect_beeper(self):\n",
    "        super().collect_beeper()\n",
    "        self.counter = self.counter + 1\n",
    "    \n",
    "    def drop_beeper(self):\n",
    "        if self.counter >0:\n",
    "            super().drop_beeper()\n",
    "            self.counter = self.counter -1"
   ]
  },
  {
   "cell_type": "code",
   "execution_count": 94,
   "metadata": {},
   "outputs": [
    {
     "name": "stdout",
     "output_type": "stream",
     "text": [
      "',(0):>   0      0      0      0      0   \n",
      "   0      0      0      0      0      0   \n",
      "   0      0      0      0      0      0   \n",
      "   0      0      0      0      0      0   \n"
     ]
    }
   ],
   "source": [
    "field = [[0 for x in range(6)] for y in range(4)]\n",
    "\n",
    "#field[0][1] = 1\n",
    "#field[1][0] = 2\n",
    "#field[3][2] = 1\n",
    "\n",
    "grid = CarelGrid(field)\n",
    "canvas = GameCanvas(speed=3);\n",
    "carel = CarelCounter(canvas, grid);\n",
    "\n",
    "carel.initiate_counter()\n",
    "\n",
    "def move():\n",
    "    carel.move()\n",
    "def turn_left():\n",
    "    carel.turn_left()\n",
    "def drop_beeper():\n",
    "    carel.drop_beeper()\n",
    "def collect_beeper():\n",
    "    carel.collect_beeper()\n",
    "def is_beeper():\n",
    "    return carel.is_beeper()\n",
    "def is_front_clear():\n",
    "    return carel.is_front_clear()\n",
    "def fill_field():\n",
    "    carel.fill_field()\n",
    "def show():\n",
    "    carel.show()"
   ]
  },
  {
   "cell_type": "code",
   "execution_count": 95,
   "metadata": {},
   "outputs": [],
   "source": [
    "def turn_around():\n",
    "    turn_left()\n",
    "    turn_left()\n",
    "\n",
    "def clear_to_wall():\n",
    "    while True:\n",
    "        clear_cell()\n",
    "        if not is_front_clear():\n",
    "            break\n",
    "        move()\n",
    "\n",
    "def clear_cell():\n",
    "    while is_beeper():\n",
    "        collect_beeper()\n",
    "\n",
    "def turn_right():\n",
    "    turn_left()\n",
    "    turn_left()\n",
    "    turn_left()"
   ]
  },
  {
   "cell_type": "code",
   "execution_count": 96,
   "metadata": {},
   "outputs": [
    {
     "name": "stdout",
     "output_type": "stream",
     "text": [
      "   0      0      0      0      0      0   \n",
      "   0      0      0      0      0      0   \n",
      "   0      0      0      0      0      0   \n",
      "',(0):v   0      0      0      0      0   \n"
     ]
    }
   ],
   "source": [
    "while True:\n",
    "    clear_to_wall()\n",
    "    turn_right()\n",
    "    if not is_front_clear():\n",
    "        break\n",
    "    move()\n",
    "    turn_right()\n",
    "    clear_to_wall()\n",
    "    turn_left()\n",
    "    if not is_front_clear():\n",
    "        break\n",
    "    move()\n",
    "    turn_left()\n",
    "\n"
   ]
  },
  {
   "cell_type": "code",
   "execution_count": 98,
   "metadata": {},
   "outputs": [],
   "source": [
    "drop_beeper()"
   ]
  },
  {
   "cell_type": "code",
   "execution_count": null,
   "metadata": {},
   "outputs": [],
   "source": []
  }
 ],
 "metadata": {
  "kernelspec": {
   "display_name": "Python 3",
   "language": "python",
   "name": "python3"
  },
  "language_info": {
   "codemirror_mode": {
    "name": "ipython",
    "version": 3
   },
   "file_extension": ".py",
   "mimetype": "text/x-python",
   "name": "python",
   "nbconvert_exporter": "python",
   "pygments_lexer": "ipython3",
   "version": "3.7.1"
  }
 },
 "nbformat": 4,
 "nbformat_minor": 2
}
